{
 "cells": [
  {
   "cell_type": "markdown",
   "id": "ba79d419",
   "metadata": {},
   "source": [
    "# Web Scraping GitHub Topics\n",
    "\n",
    "## Introduction to Web Scraping\n",
    "Web scraping is a technique used to automatically extract data from websites. It allows developers to collect and analyze data from web pages by parsing their HTML or XML content. This technique is particularly useful for gathering large amounts of data from publicly accessible websites efficiently.\n",
    "\n",
    "## Introduction to GitHub and Problem Statement\n",
    "GitHub is a widely used platform for hosting and sharing code repositories. It features a \"Topics\" page where various technologies, frameworks, and languages are categorized to help users discover relevant projects. \n",
    "\n",
    "The goal of this project is to scrape the top topics listed on GitHub’s Topics page and store the information—such as topic titles, descriptions, and URLs—in a CSV file. This will provide an organized way to analyze and explore popular topics on GitHub.\n",
    "\n",
    "## Tools and Technologies Used\n",
    "\n",
    "### Python\n",
    "Python is a versatile programming language that is commonly used for web scraping due to its simplicity and the availability of powerful libraries.\n",
    "\n",
    "### Requests\n",
    "`requests` is a Python library that allows you to send HTTP requests to websites and retrieve their content. It simplifies the process of making web requests and handling responses.\n",
    "\n",
    "### Beautiful Soup\n",
    "`Beautiful Soup` is a Python library used to parse HTML and XML documents. It provides tools for navigating the document tree, searching for specific elements, and extracting data.\n",
    "\n",
    "### Pandas\n",
    "`Pandas` is a powerful Python library for data manipulation and analysis. It is used to structure the scraped data and save it in a CSV format.\n",
    "\n",
    "## Python Code for Web Scraping GitHub Topics"
   ]
  },
  {
   "cell_type": "markdown",
   "id": "f72aa085",
   "metadata": {},
   "source": [
    "Here are the steps we'll follow:\n",
    "\n",
    "- We're going to scrape https://github.com/topics\n",
    "- We'll get a list of topics. For each topic, we'll get topic title, topic page URL and topic description\n",
    "- For each topic, we'll get the `top 20 repositories` in the topic from the topic page\n",
    "- For each repository, we'll grab the `repo name`, `username`, `stars` and `repo URL`\n",
    "- For each topic we'll create a CSV file in the following format:\n",
    "\n",
    "```\n",
    "Repo Name,Username,Stars,Repo URL\n",
    "three.js,mrdoob,69700,https://github.com/mrdoob/three.js\n",
    "libgdx,libgdx,18300,https://github.com/libgdx/libgdx\n",
    "```"
   ]
  },
  {
   "cell_type": "markdown",
   "id": "9c1302fd",
   "metadata": {},
   "source": [
    "## Scrape the list of topics from Github\n",
    "\n",
    "### To scrape the list of topics from GitHub, we'll follow these steps:\n",
    "\n",
    "- <b>Download the Page</b>: We'll use the requests library to send an `HTTP GET` request to the GitHub Topics page and download the `HTML` content of the page.\n",
    "- <b>Parse and Extract Information</b>: Once we have the HTML content, we'll use the `Beautiful Soup` library to parse the page and extract the relevant information such as topic titles, descriptions, and URLs.\n",
    "- <b>Convert to a Pandas DataFrame</b>: After extracting the data, we'll structure it in a `Pandas DataFrame` for easy manipulation and export it as a `CSV` file."
   ]
  },
  {
   "cell_type": "markdown",
   "id": "29ab801a",
   "metadata": {},
   "source": [
    "#### Install the required libraries:"
   ]
  },
  {
   "cell_type": "code",
   "execution_count": 1,
   "id": "3df4edb4",
   "metadata": {},
   "outputs": [],
   "source": [
    "# !pip install requests --upgrade --quiet\n",
    "\n",
    "# !pip install beautifulsoup4 --upgrade --quiet"
   ]
  },
  {
   "cell_type": "markdown",
   "id": "8d950be6",
   "metadata": {},
   "source": [
    "#### Import these libraries in python script:"
   ]
  },
  {
   "cell_type": "code",
   "execution_count": 2,
   "id": "85c5c317",
   "metadata": {},
   "outputs": [],
   "source": [
    "import requests\n",
    "from bs4 import BeautifulSoup\n",
    "import pandas as pd\n",
    "import os"
   ]
  },
  {
   "cell_type": "markdown",
   "id": "758efe5b",
   "metadata": {},
   "source": [
    "### Let's write a function to download the page."
   ]
  },
  {
   "cell_type": "code",
   "execution_count": 3,
   "id": "4f2f2aec",
   "metadata": {},
   "outputs": [],
   "source": [
    "def get_topics_page():\n",
    "    # TODO - add comments\n",
    "    topics_url = 'https://github.com/topics'\n",
    "    response = requests.get(topics_url)\n",
    "    if response.status_code != 200:\n",
    "        raise Exception('Failed to load page {}'.format(topic_url))\n",
    "    doc = BeautifulSoup(response.text, 'html.parser')\n",
    "    return doc"
   ]
  },
  {
   "cell_type": "code",
   "execution_count": 4,
   "id": "0a4b50c6",
   "metadata": {},
   "outputs": [],
   "source": [
    "doc = get_topics_page()"
   ]
  },
  {
   "cell_type": "markdown",
   "id": "00f6e26c",
   "metadata": {},
   "source": [
    "## Let's create some helper functions to parse information from the page.\n",
    "\n",
    "To get topic <b>titles</b>, we can pick `p` tags with the `class` ...\n",
    "\n",
    "![](https://i.imgur.com/M5padE4.png)"
   ]
  },
  {
   "cell_type": "code",
   "execution_count": 5,
   "id": "66d6c060",
   "metadata": {},
   "outputs": [],
   "source": [
    "def get_topic_titles(doc):\n",
    "    selection_class = 'f3 lh-condensed mb-0 mt-1 Link--primary'\n",
    "    topic_title_tags = doc.find_all('p', {'class': selection_class})\n",
    "    topic_titles = []\n",
    "    for tag in topic_title_tags:\n",
    "        topic_titles.append(tag.text)\n",
    "    return topic_titles"
   ]
  },
  {
   "cell_type": "markdown",
   "id": "eeec16c5",
   "metadata": {},
   "source": [
    "`get_topic_titles` can be used to get the list of titles"
   ]
  },
  {
   "cell_type": "code",
   "execution_count": 6,
   "id": "dd821074",
   "metadata": {},
   "outputs": [],
   "source": [
    "titles = get_topic_titles(doc)"
   ]
  },
  {
   "cell_type": "code",
   "execution_count": 7,
   "id": "05d47f9a",
   "metadata": {},
   "outputs": [
    {
     "data": {
      "text/plain": [
       "['3D',\n",
       " 'Ajax',\n",
       " 'Algorithm',\n",
       " 'Amp',\n",
       " 'Android',\n",
       " 'Angular',\n",
       " 'Ansible',\n",
       " 'API',\n",
       " 'Arduino',\n",
       " 'ASP.NET',\n",
       " 'Awesome Lists',\n",
       " 'Amazon Web Services',\n",
       " 'Azure',\n",
       " 'Babel',\n",
       " 'Bash',\n",
       " 'Bitcoin',\n",
       " 'Bootstrap',\n",
       " 'Bot',\n",
       " 'C',\n",
       " 'Chrome',\n",
       " 'Chrome extension',\n",
       " 'Command-line interface',\n",
       " 'Clojure',\n",
       " 'Code quality',\n",
       " 'Code review',\n",
       " 'Compiler',\n",
       " 'Continuous integration',\n",
       " 'C++',\n",
       " 'Cryptocurrency',\n",
       " 'Crystal']"
      ]
     },
     "execution_count": 7,
     "metadata": {},
     "output_type": "execute_result"
    }
   ],
   "source": [
    "titles"
   ]
  },
  {
   "cell_type": "markdown",
   "id": "8b4d58a8",
   "metadata": {},
   "source": [
    "To get topic <b>descriptions</b>, we can pick `p` tags with the `class` ...\n",
    "\n",
    "![](https://i.imgur.com/70g2ugX.png)"
   ]
  },
  {
   "cell_type": "code",
   "execution_count": 8,
   "id": "5c45154e",
   "metadata": {},
   "outputs": [],
   "source": [
    "def get_topic_descs(doc):\n",
    "    desc_selector = 'f5 color-fg-muted mb-0 mt-1'\n",
    "    topic_desc_tags = doc.find_all('p', {'class': desc_selector})\n",
    "    topic_descs = []\n",
    "    for tag in topic_desc_tags:\n",
    "        topic_descs.append(tag.text.strip())\n",
    "    return topic_descs"
   ]
  },
  {
   "cell_type": "markdown",
   "id": "7f14dd8b",
   "metadata": {},
   "source": [
    "`get_topic_descs` can be used to get the list of descriptions"
   ]
  },
  {
   "cell_type": "code",
   "execution_count": 9,
   "id": "5db8e460",
   "metadata": {},
   "outputs": [],
   "source": [
    "desc = get_topic_descs(doc)"
   ]
  },
  {
   "cell_type": "code",
   "execution_count": 10,
   "id": "5573c623",
   "metadata": {},
   "outputs": [
    {
     "data": {
      "text/plain": [
       "['3D refers to the use of three-dimensional graphics, modeling, and animation in various industries.',\n",
       " 'Ajax is a technique for creating interactive web applications.',\n",
       " 'Algorithms are self-contained sequences that carry out a variety of tasks.',\n",
       " 'Amp is a non-blocking concurrency library for PHP.',\n",
       " 'Android is an operating system built by Google designed for mobile devices.',\n",
       " 'Angular is an open source web application platform.',\n",
       " 'Ansible is a simple and powerful automation engine.',\n",
       " 'An API (Application Programming Interface) is a collection of protocols and subroutines for building software.',\n",
       " 'Arduino is an open source platform for building electronic devices.',\n",
       " 'ASP.NET is a web framework for building modern web apps and services.',\n",
       " 'An awesome list is a list of awesome things curated by the community.',\n",
       " 'Amazon Web Services provides on-demand cloud computing platforms on a subscription basis.',\n",
       " 'Azure is a cloud computing service created by Microsoft.',\n",
       " 'Babel is a compiler for writing next generation JavaScript, today.',\n",
       " 'Bash is a shell and command language interpreter for the GNU operating system.',\n",
       " 'Bitcoin is a cryptocurrency developed by Satoshi Nakamoto.',\n",
       " 'Bootstrap is an HTML, CSS, and JavaScript framework.',\n",
       " 'A bot is an application that runs automated tasks over the Internet.',\n",
       " 'C is a general purpose programming language that first appeared in 1972.',\n",
       " 'Chrome is a web browser from the tech company Google.',\n",
       " 'Chrome extensions enable users to customize the Chrome browsing experience.',\n",
       " 'A CLI, or command-line interface, is a console that helps users issue commands to a program.',\n",
       " 'Clojure is a dynamic, general-purpose programming language.',\n",
       " 'Automate your code review with style, quality, security, and test‑coverage checks when you need them.',\n",
       " 'Ensure your code meets quality standards and ship with confidence.',\n",
       " 'Compilers are software that translate higher-level programming languages to lower-level languages (e.g. machine code).',\n",
       " 'Automatically build and test your code as you push it upstream, preventing bugs from being deployed to production.',\n",
       " 'C++ is a general purpose and object-oriented programming language.',\n",
       " 'A cryptocurrency is a digital currency that uses cryptography.',\n",
       " 'Crystal is a self-hosted, general purpose programming language.']"
      ]
     },
     "execution_count": 10,
     "metadata": {},
     "output_type": "execute_result"
    }
   ],
   "source": [
    "desc"
   ]
  },
  {
   "cell_type": "markdown",
   "id": "18cbbd72",
   "metadata": {},
   "source": [
    "To get topic <b>URLs</b>, we can pick `\"a\"` tags with a `base url` and the `class` ...\n",
    "\n",
    "![](https://i.imgur.com/leQ9G0b.png)"
   ]
  },
  {
   "cell_type": "code",
   "execution_count": 11,
   "id": "763cedb4",
   "metadata": {},
   "outputs": [],
   "source": [
    "def get_topic_urls(doc):\n",
    "    topic_link_tags = doc.find_all('a', {'class': 'no-underline flex-1 d-flex flex-column'})\n",
    "    topic_urls = []\n",
    "    base_url = 'https://github.com'\n",
    "    for tag in topic_link_tags:\n",
    "        topic_urls.append(base_url + tag['href'])\n",
    "    return topic_urls"
   ]
  },
  {
   "cell_type": "markdown",
   "id": "760e4160",
   "metadata": {},
   "source": [
    "`get_topic_urls` can be used to get the list of URLs"
   ]
  },
  {
   "cell_type": "code",
   "execution_count": 12,
   "id": "8c448c69",
   "metadata": {},
   "outputs": [],
   "source": [
    "url = get_topic_urls(doc)"
   ]
  },
  {
   "cell_type": "code",
   "execution_count": 13,
   "id": "afba0a18",
   "metadata": {},
   "outputs": [
    {
     "data": {
      "text/plain": [
       "['https://github.com/topics/3d',\n",
       " 'https://github.com/topics/ajax',\n",
       " 'https://github.com/topics/algorithm',\n",
       " 'https://github.com/topics/amphp',\n",
       " 'https://github.com/topics/android',\n",
       " 'https://github.com/topics/angular',\n",
       " 'https://github.com/topics/ansible',\n",
       " 'https://github.com/topics/api',\n",
       " 'https://github.com/topics/arduino',\n",
       " 'https://github.com/topics/aspnet',\n",
       " 'https://github.com/topics/awesome',\n",
       " 'https://github.com/topics/aws',\n",
       " 'https://github.com/topics/azure',\n",
       " 'https://github.com/topics/babel',\n",
       " 'https://github.com/topics/bash',\n",
       " 'https://github.com/topics/bitcoin',\n",
       " 'https://github.com/topics/bootstrap',\n",
       " 'https://github.com/topics/bot',\n",
       " 'https://github.com/topics/c',\n",
       " 'https://github.com/topics/chrome',\n",
       " 'https://github.com/topics/chrome-extension',\n",
       " 'https://github.com/topics/cli',\n",
       " 'https://github.com/topics/clojure',\n",
       " 'https://github.com/topics/code-quality',\n",
       " 'https://github.com/topics/code-review',\n",
       " 'https://github.com/topics/compiler',\n",
       " 'https://github.com/topics/continuous-integration',\n",
       " 'https://github.com/topics/cpp',\n",
       " 'https://github.com/topics/cryptocurrency',\n",
       " 'https://github.com/topics/crystal']"
      ]
     },
     "execution_count": 13,
     "metadata": {},
     "output_type": "execute_result"
    }
   ],
   "source": [
    "url"
   ]
  },
  {
   "cell_type": "markdown",
   "id": "a571fd66",
   "metadata": {},
   "source": [
    "## Let's put this all together into a single function"
   ]
  },
  {
   "cell_type": "code",
   "execution_count": 14,
   "id": "85444a2a",
   "metadata": {},
   "outputs": [],
   "source": [
    "def scrape_topics():\n",
    "    topics_url = 'https://github.com/topics'\n",
    "    response = requests.get(topics_url)\n",
    "    if response.status_code != 200:\n",
    "        raise Exception('Failed to load page {}'.format(topic_url))\n",
    "    topics_dict = {\n",
    "        'title': get_topic_titles(doc),\n",
    "        'description': get_topic_descs(doc),\n",
    "        'url': get_topic_urls(doc)\n",
    "    }\n",
    "    return pd.DataFrame(topics_dict)"
   ]
  },
  {
   "cell_type": "code",
   "execution_count": 15,
   "id": "abac4412",
   "metadata": {},
   "outputs": [],
   "source": [
    "topics_table = scrape_topics()"
   ]
  },
  {
   "cell_type": "markdown",
   "id": "d53e331d",
   "metadata": {},
   "source": [
    "#### Getting a DataFrame of the topics_url with fields: `title`, `description` and `url`"
   ]
  },
  {
   "cell_type": "code",
   "execution_count": 16,
   "id": "2714ce20",
   "metadata": {},
   "outputs": [
    {
     "data": {
      "text/html": [
       "<div>\n",
       "<style scoped>\n",
       "    .dataframe tbody tr th:only-of-type {\n",
       "        vertical-align: middle;\n",
       "    }\n",
       "\n",
       "    .dataframe tbody tr th {\n",
       "        vertical-align: top;\n",
       "    }\n",
       "\n",
       "    .dataframe thead th {\n",
       "        text-align: right;\n",
       "    }\n",
       "</style>\n",
       "<table border=\"1\" class=\"dataframe\">\n",
       "  <thead>\n",
       "    <tr style=\"text-align: right;\">\n",
       "      <th></th>\n",
       "      <th>title</th>\n",
       "      <th>description</th>\n",
       "      <th>url</th>\n",
       "    </tr>\n",
       "  </thead>\n",
       "  <tbody>\n",
       "    <tr>\n",
       "      <th>0</th>\n",
       "      <td>3D</td>\n",
       "      <td>3D refers to the use of three-dimensional grap...</td>\n",
       "      <td>https://github.com/topics/3d</td>\n",
       "    </tr>\n",
       "    <tr>\n",
       "      <th>1</th>\n",
       "      <td>Ajax</td>\n",
       "      <td>Ajax is a technique for creating interactive w...</td>\n",
       "      <td>https://github.com/topics/ajax</td>\n",
       "    </tr>\n",
       "    <tr>\n",
       "      <th>2</th>\n",
       "      <td>Algorithm</td>\n",
       "      <td>Algorithms are self-contained sequences that c...</td>\n",
       "      <td>https://github.com/topics/algorithm</td>\n",
       "    </tr>\n",
       "    <tr>\n",
       "      <th>3</th>\n",
       "      <td>Amp</td>\n",
       "      <td>Amp is a non-blocking concurrency library for ...</td>\n",
       "      <td>https://github.com/topics/amphp</td>\n",
       "    </tr>\n",
       "    <tr>\n",
       "      <th>4</th>\n",
       "      <td>Android</td>\n",
       "      <td>Android is an operating system built by Google...</td>\n",
       "      <td>https://github.com/topics/android</td>\n",
       "    </tr>\n",
       "    <tr>\n",
       "      <th>5</th>\n",
       "      <td>Angular</td>\n",
       "      <td>Angular is an open source web application plat...</td>\n",
       "      <td>https://github.com/topics/angular</td>\n",
       "    </tr>\n",
       "    <tr>\n",
       "      <th>6</th>\n",
       "      <td>Ansible</td>\n",
       "      <td>Ansible is a simple and powerful automation en...</td>\n",
       "      <td>https://github.com/topics/ansible</td>\n",
       "    </tr>\n",
       "    <tr>\n",
       "      <th>7</th>\n",
       "      <td>API</td>\n",
       "      <td>An API (Application Programming Interface) is ...</td>\n",
       "      <td>https://github.com/topics/api</td>\n",
       "    </tr>\n",
       "    <tr>\n",
       "      <th>8</th>\n",
       "      <td>Arduino</td>\n",
       "      <td>Arduino is an open source platform for buildin...</td>\n",
       "      <td>https://github.com/topics/arduino</td>\n",
       "    </tr>\n",
       "    <tr>\n",
       "      <th>9</th>\n",
       "      <td>ASP.NET</td>\n",
       "      <td>ASP.NET is a web framework for building modern...</td>\n",
       "      <td>https://github.com/topics/aspnet</td>\n",
       "    </tr>\n",
       "    <tr>\n",
       "      <th>10</th>\n",
       "      <td>Awesome Lists</td>\n",
       "      <td>An awesome list is a list of awesome things cu...</td>\n",
       "      <td>https://github.com/topics/awesome</td>\n",
       "    </tr>\n",
       "    <tr>\n",
       "      <th>11</th>\n",
       "      <td>Amazon Web Services</td>\n",
       "      <td>Amazon Web Services provides on-demand cloud c...</td>\n",
       "      <td>https://github.com/topics/aws</td>\n",
       "    </tr>\n",
       "    <tr>\n",
       "      <th>12</th>\n",
       "      <td>Azure</td>\n",
       "      <td>Azure is a cloud computing service created by ...</td>\n",
       "      <td>https://github.com/topics/azure</td>\n",
       "    </tr>\n",
       "    <tr>\n",
       "      <th>13</th>\n",
       "      <td>Babel</td>\n",
       "      <td>Babel is a compiler for writing next generatio...</td>\n",
       "      <td>https://github.com/topics/babel</td>\n",
       "    </tr>\n",
       "    <tr>\n",
       "      <th>14</th>\n",
       "      <td>Bash</td>\n",
       "      <td>Bash is a shell and command language interpret...</td>\n",
       "      <td>https://github.com/topics/bash</td>\n",
       "    </tr>\n",
       "    <tr>\n",
       "      <th>15</th>\n",
       "      <td>Bitcoin</td>\n",
       "      <td>Bitcoin is a cryptocurrency developed by Satos...</td>\n",
       "      <td>https://github.com/topics/bitcoin</td>\n",
       "    </tr>\n",
       "    <tr>\n",
       "      <th>16</th>\n",
       "      <td>Bootstrap</td>\n",
       "      <td>Bootstrap is an HTML, CSS, and JavaScript fram...</td>\n",
       "      <td>https://github.com/topics/bootstrap</td>\n",
       "    </tr>\n",
       "    <tr>\n",
       "      <th>17</th>\n",
       "      <td>Bot</td>\n",
       "      <td>A bot is an application that runs automated ta...</td>\n",
       "      <td>https://github.com/topics/bot</td>\n",
       "    </tr>\n",
       "    <tr>\n",
       "      <th>18</th>\n",
       "      <td>C</td>\n",
       "      <td>C is a general purpose programming language th...</td>\n",
       "      <td>https://github.com/topics/c</td>\n",
       "    </tr>\n",
       "    <tr>\n",
       "      <th>19</th>\n",
       "      <td>Chrome</td>\n",
       "      <td>Chrome is a web browser from the tech company ...</td>\n",
       "      <td>https://github.com/topics/chrome</td>\n",
       "    </tr>\n",
       "    <tr>\n",
       "      <th>20</th>\n",
       "      <td>Chrome extension</td>\n",
       "      <td>Chrome extensions enable users to customize th...</td>\n",
       "      <td>https://github.com/topics/chrome-extension</td>\n",
       "    </tr>\n",
       "    <tr>\n",
       "      <th>21</th>\n",
       "      <td>Command-line interface</td>\n",
       "      <td>A CLI, or command-line interface, is a console...</td>\n",
       "      <td>https://github.com/topics/cli</td>\n",
       "    </tr>\n",
       "    <tr>\n",
       "      <th>22</th>\n",
       "      <td>Clojure</td>\n",
       "      <td>Clojure is a dynamic, general-purpose programm...</td>\n",
       "      <td>https://github.com/topics/clojure</td>\n",
       "    </tr>\n",
       "    <tr>\n",
       "      <th>23</th>\n",
       "      <td>Code quality</td>\n",
       "      <td>Automate your code review with style, quality,...</td>\n",
       "      <td>https://github.com/topics/code-quality</td>\n",
       "    </tr>\n",
       "    <tr>\n",
       "      <th>24</th>\n",
       "      <td>Code review</td>\n",
       "      <td>Ensure your code meets quality standards and s...</td>\n",
       "      <td>https://github.com/topics/code-review</td>\n",
       "    </tr>\n",
       "    <tr>\n",
       "      <th>25</th>\n",
       "      <td>Compiler</td>\n",
       "      <td>Compilers are software that translate higher-l...</td>\n",
       "      <td>https://github.com/topics/compiler</td>\n",
       "    </tr>\n",
       "    <tr>\n",
       "      <th>26</th>\n",
       "      <td>Continuous integration</td>\n",
       "      <td>Automatically build and test your code as you ...</td>\n",
       "      <td>https://github.com/topics/continuous-integration</td>\n",
       "    </tr>\n",
       "    <tr>\n",
       "      <th>27</th>\n",
       "      <td>C++</td>\n",
       "      <td>C++ is a general purpose and object-oriented p...</td>\n",
       "      <td>https://github.com/topics/cpp</td>\n",
       "    </tr>\n",
       "    <tr>\n",
       "      <th>28</th>\n",
       "      <td>Cryptocurrency</td>\n",
       "      <td>A cryptocurrency is a digital currency that us...</td>\n",
       "      <td>https://github.com/topics/cryptocurrency</td>\n",
       "    </tr>\n",
       "    <tr>\n",
       "      <th>29</th>\n",
       "      <td>Crystal</td>\n",
       "      <td>Crystal is a self-hosted, general purpose prog...</td>\n",
       "      <td>https://github.com/topics/crystal</td>\n",
       "    </tr>\n",
       "  </tbody>\n",
       "</table>\n",
       "</div>"
      ],
      "text/plain": [
       "                     title                                        description  \\\n",
       "0                       3D  3D refers to the use of three-dimensional grap...   \n",
       "1                     Ajax  Ajax is a technique for creating interactive w...   \n",
       "2                Algorithm  Algorithms are self-contained sequences that c...   \n",
       "3                      Amp  Amp is a non-blocking concurrency library for ...   \n",
       "4                  Android  Android is an operating system built by Google...   \n",
       "5                  Angular  Angular is an open source web application plat...   \n",
       "6                  Ansible  Ansible is a simple and powerful automation en...   \n",
       "7                      API  An API (Application Programming Interface) is ...   \n",
       "8                  Arduino  Arduino is an open source platform for buildin...   \n",
       "9                  ASP.NET  ASP.NET is a web framework for building modern...   \n",
       "10           Awesome Lists  An awesome list is a list of awesome things cu...   \n",
       "11     Amazon Web Services  Amazon Web Services provides on-demand cloud c...   \n",
       "12                   Azure  Azure is a cloud computing service created by ...   \n",
       "13                   Babel  Babel is a compiler for writing next generatio...   \n",
       "14                    Bash  Bash is a shell and command language interpret...   \n",
       "15                 Bitcoin  Bitcoin is a cryptocurrency developed by Satos...   \n",
       "16               Bootstrap  Bootstrap is an HTML, CSS, and JavaScript fram...   \n",
       "17                     Bot  A bot is an application that runs automated ta...   \n",
       "18                       C  C is a general purpose programming language th...   \n",
       "19                  Chrome  Chrome is a web browser from the tech company ...   \n",
       "20        Chrome extension  Chrome extensions enable users to customize th...   \n",
       "21  Command-line interface  A CLI, or command-line interface, is a console...   \n",
       "22                 Clojure  Clojure is a dynamic, general-purpose programm...   \n",
       "23            Code quality  Automate your code review with style, quality,...   \n",
       "24             Code review  Ensure your code meets quality standards and s...   \n",
       "25                Compiler  Compilers are software that translate higher-l...   \n",
       "26  Continuous integration  Automatically build and test your code as you ...   \n",
       "27                     C++  C++ is a general purpose and object-oriented p...   \n",
       "28          Cryptocurrency  A cryptocurrency is a digital currency that us...   \n",
       "29                 Crystal  Crystal is a self-hosted, general purpose prog...   \n",
       "\n",
       "                                                 url  \n",
       "0                       https://github.com/topics/3d  \n",
       "1                     https://github.com/topics/ajax  \n",
       "2                https://github.com/topics/algorithm  \n",
       "3                    https://github.com/topics/amphp  \n",
       "4                  https://github.com/topics/android  \n",
       "5                  https://github.com/topics/angular  \n",
       "6                  https://github.com/topics/ansible  \n",
       "7                      https://github.com/topics/api  \n",
       "8                  https://github.com/topics/arduino  \n",
       "9                   https://github.com/topics/aspnet  \n",
       "10                 https://github.com/topics/awesome  \n",
       "11                     https://github.com/topics/aws  \n",
       "12                   https://github.com/topics/azure  \n",
       "13                   https://github.com/topics/babel  \n",
       "14                    https://github.com/topics/bash  \n",
       "15                 https://github.com/topics/bitcoin  \n",
       "16               https://github.com/topics/bootstrap  \n",
       "17                     https://github.com/topics/bot  \n",
       "18                       https://github.com/topics/c  \n",
       "19                  https://github.com/topics/chrome  \n",
       "20        https://github.com/topics/chrome-extension  \n",
       "21                     https://github.com/topics/cli  \n",
       "22                 https://github.com/topics/clojure  \n",
       "23            https://github.com/topics/code-quality  \n",
       "24             https://github.com/topics/code-review  \n",
       "25                https://github.com/topics/compiler  \n",
       "26  https://github.com/topics/continuous-integration  \n",
       "27                     https://github.com/topics/cpp  \n",
       "28          https://github.com/topics/cryptocurrency  \n",
       "29                 https://github.com/topics/crystal  "
      ]
     },
     "execution_count": 16,
     "metadata": {},
     "output_type": "execute_result"
    }
   ],
   "source": [
    "topics_table"
   ]
  },
  {
   "cell_type": "markdown",
   "id": "6c005b5f",
   "metadata": {},
   "source": [
    "## Getting the top repositories from a topic page"
   ]
  },
  {
   "cell_type": "code",
   "execution_count": 17,
   "id": "690e90a3",
   "metadata": {},
   "outputs": [],
   "source": [
    "def get_topic_page(topic_url):\n",
    "    # Download the page\n",
    "    response = requests.get(topic_url)\n",
    "    # Check successful response\n",
    "    if response.status_code != 200:\n",
    "        raise Exception('Failed to load page {}'.format(topic_url))\n",
    "    # Parse using Beautiful soup\n",
    "    topic_doc = BeautifulSoup(response.text, 'html.parser')\n",
    "    return topic_doc"
   ]
  },
  {
   "cell_type": "markdown",
   "id": "cf7b7308",
   "metadata": {},
   "source": [
    "<b>Getting the topic page for the url:</b> `https://github.com/topics/3d`"
   ]
  },
  {
   "cell_type": "code",
   "execution_count": 18,
   "id": "c915135a",
   "metadata": {},
   "outputs": [
    {
     "name": "stdout",
     "output_type": "stream",
     "text": [
      "https://github.com/topics/3d\n"
     ]
    }
   ],
   "source": [
    "custom_url = url[0]\n",
    "\n",
    "print(custom_url)"
   ]
  },
  {
   "cell_type": "code",
   "execution_count": 19,
   "id": "e206d009",
   "metadata": {},
   "outputs": [],
   "source": [
    "topic_doc = get_topic_page(custom_url)"
   ]
  },
  {
   "cell_type": "markdown",
   "id": "2c42fb5d",
   "metadata": {},
   "source": [
    "To get <b>repo tags</b>, we can pick `h3` tags with the `class` ...\n",
    "\n",
    "![](https://i.imgur.com/B6HDspK.png)"
   ]
  },
  {
   "cell_type": "code",
   "execution_count": 20,
   "id": "00a19fce",
   "metadata": {},
   "outputs": [],
   "source": [
    "h3_selection_class = 'f3 color-fg-muted text-normal lh-condensed'\n",
    "repo_tags = topic_doc.find_all('h3',h3_selection_class)"
   ]
  },
  {
   "cell_type": "markdown",
   "id": "1d4406c6",
   "metadata": {},
   "source": [
    "#### Getting the `username` for the first repository in `3d` topic:"
   ]
  },
  {
   "cell_type": "code",
   "execution_count": 21,
   "id": "b30554c9",
   "metadata": {},
   "outputs": [
    {
     "data": {
      "text/plain": [
       "<h3 class=\"f3 color-fg-muted text-normal lh-condensed\">\n",
       "<a class=\"Link\" data-hydro-click='{\"event_type\":\"explore.click\",\"payload\":{\"click_context\":\"REPOSITORY_CARD\",\"click_target\":\"OWNER\",\"click_visual_representation\":\"REPOSITORY_OWNER_HEADING\",\"actor_id\":null,\"record_id\":97088,\"originating_url\":\"https://github.com/topics/3d\",\"user_id\":null}}' data-hydro-click-hmac=\"c72fbd5c69a8ee7c9c53a4e65de2b93c8fc7552dd793945819639bc165c0f0ba\" data-turbo=\"false\" data-view-component=\"true\" href=\"/mrdoob\">\n",
       "            mrdoob\n",
       "</a>          /\n",
       "          <a class=\"Link text-bold wb-break-word\" data-hydro-click='{\"event_type\":\"explore.click\",\"payload\":{\"click_context\":\"REPOSITORY_CARD\",\"click_target\":\"REPOSITORY\",\"click_visual_representation\":\"REPOSITORY_NAME_HEADING\",\"actor_id\":null,\"record_id\":576201,\"originating_url\":\"https://github.com/topics/3d\",\"user_id\":null}}' data-hydro-click-hmac=\"4a2667db3d63a1739c412e059e5da95afe419df83f70949b5d59dc3478f5c79a\" data-turbo=\"false\" data-view-component=\"true\" href=\"/mrdoob/three.js\">\n",
       "            three.js\n",
       "</a> </h3>"
      ]
     },
     "execution_count": 21,
     "metadata": {},
     "output_type": "execute_result"
    }
   ],
   "source": [
    "repo_tags[0]"
   ]
  },
  {
   "cell_type": "code",
   "execution_count": 22,
   "id": "1e1bc489",
   "metadata": {},
   "outputs": [],
   "source": [
    "a_tags = repo_tags[0].find_all('a')"
   ]
  },
  {
   "cell_type": "code",
   "execution_count": 23,
   "id": "2b19654b",
   "metadata": {},
   "outputs": [
    {
     "data": {
      "text/plain": [
       "'mrdoob'"
      ]
     },
     "execution_count": 23,
     "metadata": {},
     "output_type": "execute_result"
    }
   ],
   "source": [
    "a_tags[0].text.strip()"
   ]
  },
  {
   "cell_type": "markdown",
   "id": "9e8cdf05",
   "metadata": {},
   "source": [
    "#### Getting the `stars` for the same repository:"
   ]
  },
  {
   "cell_type": "code",
   "execution_count": 24,
   "id": "062248fb",
   "metadata": {},
   "outputs": [],
   "source": [
    "star_tags = topic_doc.find_all('span', { 'class': 'Counter js-social-count'})"
   ]
  },
  {
   "cell_type": "code",
   "execution_count": 25,
   "id": "3c2a2347",
   "metadata": {},
   "outputs": [
    {
     "data": {
      "text/plain": [
       "'101k'"
      ]
     },
     "execution_count": 25,
     "metadata": {},
     "output_type": "execute_result"
    }
   ],
   "source": [
    "star_tags[0].text.strip()"
   ]
  },
  {
   "cell_type": "markdown",
   "id": "93595fe9",
   "metadata": {},
   "source": [
    "In the data, the value `101k` represents a shorthand notation commonly used to indicate large numbers, where `K` stands for `thousand`. To make this data easier to process and analyze, we converted the shorthand `101k` into its full numerical equivalent, `101000`.<br>\n",
    "Converting shorthand notation to a fixed numerical value ensures that all values are in a consistent numerical format, facilitating accurate calculations and comparisons.<br>\n",
    "The `parse_star_count` function does the conversion:"
   ]
  },
  {
   "cell_type": "code",
   "execution_count": 26,
   "id": "eb622f4e",
   "metadata": {},
   "outputs": [],
   "source": [
    "def parse_star_count(stars_str):\n",
    "    stars_str = stars_str.strip()\n",
    "    if stars_str[-1] == 'k':\n",
    "        return int(float(stars_str[:-1]) * 1000)\n",
    "    return int(stars_str)"
   ]
  },
  {
   "cell_type": "code",
   "execution_count": 27,
   "id": "e77a9e8a",
   "metadata": {},
   "outputs": [
    {
     "data": {
      "text/plain": [
       "101000"
      ]
     },
     "execution_count": 27,
     "metadata": {},
     "output_type": "execute_result"
    }
   ],
   "source": [
    "parse_star_count(star_tags[0].text.strip())"
   ]
  },
  {
   "cell_type": "markdown",
   "id": "91243def",
   "metadata": {},
   "source": [
    "### Getting all the required information about a repository"
   ]
  },
  {
   "cell_type": "code",
   "execution_count": 28,
   "id": "d6ef4893",
   "metadata": {},
   "outputs": [],
   "source": [
    "base_url = 'https://github.com'"
   ]
  },
  {
   "cell_type": "code",
   "execution_count": 29,
   "id": "61316048",
   "metadata": {},
   "outputs": [],
   "source": [
    "def get_repo_info(h3_tag, star_tag):\n",
    "    # returns all the required info about a repository\n",
    "    a_tags = h3_tag.find_all('a')\n",
    "    username = a_tags[0].text.strip()\n",
    "    repo_name = a_tags[1].text.strip()\n",
    "    repo_url =  base_url + a_tags[1]['href']\n",
    "    stars = parse_star_count(star_tag.text.strip())\n",
    "    return username, repo_name, stars, repo_url"
   ]
  },
  {
   "cell_type": "markdown",
   "id": "1ef3ec8d",
   "metadata": {},
   "source": [
    "#### Getting the `username`,`repository name`,`stars` and `repository url` for the first repository in `3d` topic:"
   ]
  },
  {
   "cell_type": "code",
   "execution_count": 30,
   "id": "34e168ff",
   "metadata": {},
   "outputs": [],
   "source": [
    "info = get_repo_info(repo_tags[0],star_tags[0])"
   ]
  },
  {
   "cell_type": "code",
   "execution_count": 31,
   "id": "d0eea0ca",
   "metadata": {},
   "outputs": [
    {
     "data": {
      "text/plain": [
       "('mrdoob', 'three.js', 101000, 'https://github.com/mrdoob/three.js')"
      ]
     },
     "execution_count": 31,
     "metadata": {},
     "output_type": "execute_result"
    }
   ],
   "source": [
    "info"
   ]
  },
  {
   "cell_type": "markdown",
   "id": "38657710",
   "metadata": {},
   "source": [
    "## Getting all the topic repositories"
   ]
  },
  {
   "cell_type": "markdown",
   "id": "5124468b",
   "metadata": {},
   "source": [
    "The dictionary `topic_repos_dict` is designed to store information about repositories under a specific topic.<br>\n",
    "Each key in the dictionary represents a list that will hold specific details about the repositories. \n",
    "<br>Here’s a description of each key:\n",
    "- `username`: A list to store the GitHub usernames of the owners of the repositories.\n",
    "- `repo_name`: A list to store the names of the repositories.\n",
    "- `stars`: A list to store the number of stars each repository has received. Stars are a measure of how popular or well-regarded a repository is on GitHub.\n",
    "- `repo_url`: A list to store the URLs of the repositories, allowing users to directly access them on GitHub."
   ]
  },
  {
   "cell_type": "code",
   "execution_count": 32,
   "id": "b38508c4",
   "metadata": {},
   "outputs": [],
   "source": [
    "topic_repos_dict = {\n",
    "    'username': [],\n",
    "    'repo_name': [],\n",
    "    'stars': [],\n",
    "    'repo_url': []\n",
    "}"
   ]
  },
  {
   "cell_type": "code",
   "execution_count": 33,
   "id": "7522bbb0",
   "metadata": {},
   "outputs": [],
   "source": [
    "def get_topic_repos(topic_doc):\n",
    "    # Get the h3 tags containing repo title, repo URL and username\n",
    "    h3_selection_class = 'f3 color-fg-muted text-normal lh-condensed'\n",
    "    repo_tags = topic_doc.find_all('h3', {'class': h3_selection_class} )\n",
    "    # Get star tags\n",
    "    star_tags = topic_doc.find_all('span', { 'class': 'Counter js-social-count'})\n",
    "    \n",
    "    topic_repos_dict = { 'username': [], 'repo_name': [], 'stars': [],'repo_url': []}\n",
    "\n",
    "    # Get repo info\n",
    "    for i in range(len(repo_tags)):\n",
    "        repo_info = get_repo_info(repo_tags[i], star_tags[i])\n",
    "        topic_repos_dict['username'].append(repo_info[0])\n",
    "        topic_repos_dict['repo_name'].append(repo_info[1])\n",
    "        topic_repos_dict['stars'].append(repo_info[2])\n",
    "        topic_repos_dict['repo_url'].append(repo_info[3])\n",
    "        \n",
    "    return pd.DataFrame(topic_repos_dict)"
   ]
  },
  {
   "cell_type": "markdown",
   "id": "e06dc2db",
   "metadata": {},
   "source": [
    "The `scrape_topic` function you've provided is designed to scrape repository data from a specific GitHub topic page and save it to a CSV file."
   ]
  },
  {
   "cell_type": "code",
   "execution_count": 34,
   "id": "8a8078e2",
   "metadata": {},
   "outputs": [],
   "source": [
    "def scrape_topic(topic_url, path):\n",
    "    if os.path.exists(path):\n",
    "        print(\"The file {} already exists. Skipping...\".format(path))\n",
    "        return\n",
    "    topic_df = get_topic_repos(get_topic_page(topic_url))\n",
    "    topic_df.to_csv(path, index=None)"
   ]
  },
  {
   "cell_type": "markdown",
   "id": "814c7b1a",
   "metadata": {},
   "source": [
    "## Putting it all together\n",
    "\n",
    "- We have a funciton to get the list of topics\n",
    "- We have a function to create a CSV file for scraped repos from a topics page\n",
    "- Let's create a function to put them together"
   ]
  },
  {
   "cell_type": "code",
   "execution_count": 35,
   "id": "1602e157",
   "metadata": {},
   "outputs": [],
   "source": [
    "def scrape_topics_repos():\n",
    "    print('Scraping list of topics')\n",
    "    topic_df = scrape_topics()\n",
    "    \n",
    "    os.makedirs('data', exist_ok=True)\n",
    "    for index, row in topic_df.iterrows():\n",
    "        print('Scraping top repositories for \"{}\"'.format(row['title']))\n",
    "        scrape_topic(row['url'], 'data/{}.csv'.format(row['title']))"
   ]
  },
  {
   "cell_type": "markdown",
   "id": "f22fd8f7",
   "metadata": {},
   "source": [
    "Let's run it to scrape the top repos for the all the topics on the first page of https://github.com/topics"
   ]
  },
  {
   "cell_type": "code",
   "execution_count": 36,
   "id": "1f03af68",
   "metadata": {},
   "outputs": [
    {
     "name": "stdout",
     "output_type": "stream",
     "text": [
      "Scraping list of topics\n",
      "Scraping top repositories for \"3D\"\n",
      "Scraping top repositories for \"Ajax\"\n",
      "Scraping top repositories for \"Algorithm\"\n",
      "Scraping top repositories for \"Amp\"\n",
      "Scraping top repositories for \"Android\"\n",
      "Scraping top repositories for \"Angular\"\n",
      "Scraping top repositories for \"Ansible\"\n",
      "Scraping top repositories for \"API\"\n",
      "Scraping top repositories for \"Arduino\"\n",
      "Scraping top repositories for \"ASP.NET\"\n",
      "Scraping top repositories for \"Awesome Lists\"\n",
      "Scraping top repositories for \"Amazon Web Services\"\n",
      "Scraping top repositories for \"Azure\"\n",
      "Scraping top repositories for \"Babel\"\n",
      "Scraping top repositories for \"Bash\"\n",
      "Scraping top repositories for \"Bitcoin\"\n",
      "Scraping top repositories for \"Bootstrap\"\n",
      "Scraping top repositories for \"Bot\"\n",
      "Scraping top repositories for \"C\"\n",
      "Scraping top repositories for \"Chrome\"\n",
      "Scraping top repositories for \"Chrome extension\"\n",
      "Scraping top repositories for \"Command-line interface\"\n",
      "Scraping top repositories for \"Clojure\"\n",
      "Scraping top repositories for \"Code quality\"\n",
      "Scraping top repositories for \"Code review\"\n",
      "Scraping top repositories for \"Compiler\"\n",
      "Scraping top repositories for \"Continuous integration\"\n",
      "Scraping top repositories for \"C++\"\n",
      "Scraping top repositories for \"Cryptocurrency\"\n",
      "Scraping top repositories for \"Crystal\"\n"
     ]
    }
   ],
   "source": [
    "scrape_topics_repos()"
   ]
  },
  {
   "cell_type": "markdown",
   "id": "de8c4aa7",
   "metadata": {},
   "source": [
    "#### We can check that the CSVs were created properly"
   ]
  }
 ],
 "metadata": {
  "kernelspec": {
   "display_name": "Python 3 (ipykernel)",
   "language": "python",
   "name": "python3"
  },
  "language_info": {
   "codemirror_mode": {
    "name": "ipython",
    "version": 3
   },
   "file_extension": ".py",
   "mimetype": "text/x-python",
   "name": "python",
   "nbconvert_exporter": "python",
   "pygments_lexer": "ipython3",
   "version": "3.9.12"
  }
 },
 "nbformat": 4,
 "nbformat_minor": 5
}
